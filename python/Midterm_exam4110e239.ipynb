{
  "nbformat": 4,
  "nbformat_minor": 0,
  "metadata": {
    "colab": {
      "provenance": []
    },
    "kernelspec": {
      "name": "python3",
      "display_name": "Python 3"
    },
    "language_info": {
      "name": "python"
    }
  },
  "cells": [
    {
      "cell_type": "markdown",
      "source": [
        "1. What can Python do?\n",
        "\n",
        "(A)Python can be used on a server to create web applications.\n",
        "\n",
        "(B)Python can be used alongside software to create workflows.\n",
        "\n",
        "(C)Python can connect to database systems. It can also read and modify files.\n",
        "\n",
        "(D)Python can be used to handle big data and perform complex mathematics."
      ],
      "metadata": {
        "id": "m8y936u2Vrw7"
      }
    },
    {
      "cell_type": "markdown",
      "source": [
        "Answer: https://www.w3schools.com/python/python_intro.asp\n",
        "Python can be used on a server to create web applications.\n",
        "\n",
        "Python can be used alongside software to create workflows.\n",
        "\n",
        "Python can connect to database systems. It can also read and modify files.\n",
        "\n",
        "Python can be used to handle big data and perform complex mathematics.\n",
        "\n",
        "Python can be used for rapid prototyping, or for production-ready software development. Why Python?"
      ],
      "metadata": {
        "id": "TT32J50_Vugi"
      }
    },
    {
      "cell_type": "markdown",
      "source": [
        "2.Python uses __________ to indicate a block of code\n",
        "(A) [] (B){}  (C) ()  (D) indentation\n"
      ],
      "metadata": {
        "id": "TPvGMqL2WAnQ"
      }
    },
    {
      "cell_type": "markdown",
      "source": [
        "Answer: D https://www.w3schools.com/python/python_syntax.asp Python uses indentation to indicate a block of code."
      ],
      "metadata": {
        "id": "Klr1-tPmWMRL"
      }
    },
    {
      "cell_type": "markdown",
      "source": [
        "3. Python has commenting capability for the purpose of in-code documentation. Comments start with a  __________\n",
        "(A)A  (B) # (C) /  (D)&\n"
      ],
      "metadata": {
        "id": "m8n0BzDNWW-I"
      }
    },
    {
      "cell_type": "markdown",
      "source": [
        "Answer: B"
      ],
      "metadata": {
        "id": "mu9CuvRCWa6S"
      }
    },
    {
      "cell_type": "markdown",
      "source": [
        "4. Unpack a Collection:\n",
        "If you have a collection of values in a list, tuple etc. Python allows you to extract the values into variables. \n",
        "fruits = [\"apple\", \"banana\", \"cherry\"]\n",
        "x, y, z = fruits\n",
        "print(x)\n",
        "What is the output of this code in Python?\n",
        "(A) apple  (B) banana (C) cherry  \n",
        "(D) [\"apple\", \"banana\", \"cherry\"]\n"
      ],
      "metadata": {
        "id": "XR1OZLdHWfhH"
      }
    },
    {
      "cell_type": "code",
      "source": [
        "fruits = [\"apple\", \"banana\", \"cherry\"]\n",
        "x, y, z = fruits\n",
        "print(x)\n"
      ],
      "metadata": {
        "colab": {
          "base_uri": "https://localhost:8080/"
        },
        "id": "Yhuc8ZDFWvV2",
        "outputId": "da616758-0895-4fdb-d9fb-dd054ab70a95"
      },
      "execution_count": 1,
      "outputs": [
        {
          "output_type": "stream",
          "name": "stdout",
          "text": [
            "apple\n"
          ]
        }
      ]
    },
    {
      "cell_type": "markdown",
      "source": [
        "Answer: (A) apple"
      ],
      "metadata": {
        "id": "BmImg7vVXIHJ"
      }
    },
    {
      "cell_type": "markdown",
      "source": [
        "5. Which following is the correct way to create a dictionary in Python?\n",
        "   (A) students = { 'name' => 'alice' ;  'score' =>60 }\n",
        "   (B) students = { 'name' = 'alice' ;  'score' =60 }\n",
        "   (C) students = { 'name' : 'alice' ;  'score' : 60 }\n",
        "   (D) students = { 'name' => 'alice' ,  'score' =>60 }\n",
        "   (E) students = { 'name' : 'alice' , 'score' : 60 }\n"
      ],
      "metadata": {
        "id": "DOr7xeAXXJpr"
      }
    },
    {
      "cell_type": "markdown",
      "source": [
        "students = { 'name' => 'alice' ; 'score' =>60 } File \"\", line 1 students = { 'name' => 'alice' ; 'score' =>60 } \n",
        "^ SyntaxError: invalid syntax\n",
        "\n",
        "students = { 'name' = 'alice' ; 'score' =60 } File \"\", line 1 ) students = { 'name' = 'alice' ; 'score' =60 } \n",
        "^ SyntaxError: invalid syntax\n",
        "\n",
        "students = { 'name' = 'alice' ; 'score' =60 } File \"\", line 1 ) students = { 'name' = 'alice' ; 'score' =60 } \n",
        "^ SyntaxError: invalid syntax\n",
        "\n",
        "students = { 'name' => 'alice' , 'score' =>60 } File \"\", line 1 students = { 'name' => 'alice' , 'score' =>60 }\n",
        " ^ SyntaxError: invalid syntax\n",
        "\n",
        " students = { 'name' : 'alice' , 'score' : 60 }"
      ],
      "metadata": {
        "id": "F71fpjK2XZZ7"
      }
    },
    {
      "cell_type": "markdown",
      "source": [
        "Answer: - E- { 'name' : 'alice' , 'score' : 60 }"
      ],
      "metadata": {
        "id": "O-lIqUYYX9M6"
      }
    },
    {
      "cell_type": "markdown",
      "source": [
        "6. What is the output of this code in Python?\n",
        "\n",
        "x = 5 y = \"John\" print(x + y)\n",
        "\n",
        "(A) 5 John (B) 5 + John (C) John\n",
        "(D) Python will give you an error"
      ],
      "metadata": {
        "id": "5NEujmzVYCf-"
      }
    },
    {
      "cell_type": "code",
      "source": [
        "x = 5\n",
        "y = \"John\"\n",
        "print(x + y) \n"
      ],
      "metadata": {
        "colab": {
          "base_uri": "https://localhost:8080/",
          "height": 200
        },
        "id": "-JjWNhSfZPMj",
        "outputId": "3cdafeb9-a8a9-41b3-a51e-f4e10cecbbc2"
      },
      "execution_count": 2,
      "outputs": [
        {
          "output_type": "error",
          "ename": "TypeError",
          "evalue": "ignored",
          "traceback": [
            "\u001b[0;31m---------------------------------------------------------------------------\u001b[0m",
            "\u001b[0;31mTypeError\u001b[0m                                 Traceback (most recent call last)",
            "\u001b[0;32m<ipython-input-2-4a16b9810e61>\u001b[0m in \u001b[0;36m<module>\u001b[0;34m\u001b[0m\n\u001b[1;32m      1\u001b[0m \u001b[0mx\u001b[0m \u001b[0;34m=\u001b[0m \u001b[0;36m5\u001b[0m\u001b[0;34m\u001b[0m\u001b[0;34m\u001b[0m\u001b[0m\n\u001b[1;32m      2\u001b[0m \u001b[0my\u001b[0m \u001b[0;34m=\u001b[0m \u001b[0;34m\"John\"\u001b[0m\u001b[0;34m\u001b[0m\u001b[0;34m\u001b[0m\u001b[0m\n\u001b[0;32m----> 3\u001b[0;31m \u001b[0mprint\u001b[0m\u001b[0;34m(\u001b[0m\u001b[0mx\u001b[0m \u001b[0;34m+\u001b[0m \u001b[0my\u001b[0m\u001b[0;34m)\u001b[0m\u001b[0;34m\u001b[0m\u001b[0;34m\u001b[0m\u001b[0m\n\u001b[0m",
            "\u001b[0;31mTypeError\u001b[0m: unsupported operand type(s) for +: 'int' and 'str'"
          ]
        }
      ]
    },
    {
      "cell_type": "markdown",
      "source": [
        "Answer: D- Python will give you an error"
      ],
      "metadata": {
        "id": "EaBHAZmeZVZw"
      }
    },
    {
      "cell_type": "markdown",
      "source": [
        "7. \t7\tWhich one of the following outputs is wrong?\n",
        "(A)13//5  output: 2.6\n",
        "(B) 13/5   output: 2.6\n",
        "(C)13%5   output:3   \n",
        "(D)y = int(2.8)  output:2\n"
      ],
      "metadata": {
        "id": "uSEXQyEgZbJM"
      }
    },
    {
      "cell_type": "markdown",
      "source": [
        "Answer: B-13/5 output: 2.6"
      ],
      "metadata": {
        "id": "PamejmsIZrH5"
      }
    },
    {
      "cell_type": "markdown",
      "source": [
        "8. What does the following Python program fragment do?\n",
        "   s=0\n",
        "   for i in range (3 , 11) :\n",
        "        s+=i\n",
        "   print (s)\n",
        "   (A) Calculate the sum of 1+2+…+10\n",
        "   (B) Calculate the sum of 1+4+7+10\n",
        "   (C) Calculate the sum of 3+4+5+6+…+9\n",
        "   (D) Calculate the sum of 3+4+5+6+…+10\n",
        "   (E) Calculate the sum of 0+2+4+6+…+10\n"
      ],
      "metadata": {
        "id": "tFr-HgbsZvBN"
      }
    },
    {
      "cell_type": "code",
      "source": [
        "x = range(3,11)\n",
        "\n",
        "for n in x:\n",
        "  print(n)"
      ],
      "metadata": {
        "colab": {
          "base_uri": "https://localhost:8080/"
        },
        "id": "0i5IRdTcZ0PP",
        "outputId": "d56c4315-53c5-46d4-a7f3-32f3c125d229"
      },
      "execution_count": 3,
      "outputs": [
        {
          "output_type": "stream",
          "name": "stdout",
          "text": [
            "3\n",
            "4\n",
            "5\n",
            "6\n",
            "7\n",
            "8\n",
            "9\n",
            "10\n"
          ]
        }
      ]
    },
    {
      "cell_type": "markdown",
      "source": [
        "Answer: D- Calculate the sum of 3+4+5+6+…+10"
      ],
      "metadata": {
        "id": "w7Y2LULmaXTp"
      }
    },
    {
      "cell_type": "markdown",
      "source": [
        "9.What is the output of this code in Python?\n",
        "\n",
        "a = \"Hello, World!\" print(a[2:5]+ a[3:8])\n",
        "\n",
        "(A) W llolo, (B) llolo,Wo (C) llolo, W (D) llolo,Wor\n",
        "Answer: B- llolo,Wo"
      ],
      "metadata": {
        "id": "K7jVQqHEahAq"
      }
    },
    {
      "cell_type": "code",
      "source": [
        "a = \"Hello, World!\"\n",
        "print(a[2:5]+ a[3:8])"
      ],
      "metadata": {
        "colab": {
          "base_uri": "https://localhost:8080/"
        },
        "id": "ptOQH3GbaqAw",
        "outputId": "92550bb2-885f-415f-aec7-313e9a204903"
      },
      "execution_count": 7,
      "outputs": [
        {
          "output_type": "stream",
          "name": "stdout",
          "text": [
            "llolo, W\n"
          ]
        }
      ]
    },
    {
      "cell_type": "markdown",
      "source": [
        "10. Which function can returns the length of a string?\n",
        "a = \"Hello, Pythonian!\" print(_________) (A) len(a) (B) length(a) (C) count(a) (D) num(a)\n",
        "\n",
        "Answer: B-length(a)"
      ],
      "metadata": {
        "id": "7thXEisybWTe"
      }
    },
    {
      "cell_type": "markdown",
      "source": [
        "11.What is the output of this code in Python? list = [ ' a ' , ' b ' , ' c ' , ' d ' , ' e ' ] print (list [ 1 : ]) (A) [ ] (B) [ 'b' ] (C) [ 'a' , 'b' ] (D) [ 'b' , 'c' , 'd' , 'e' ]\n",
        "\n",
        "Answer: D-[' b ', ' c ', ' d ', ' e ']"
      ],
      "metadata": {
        "id": "PyTwUHVwdfqN"
      }
    },
    {
      "cell_type": "code",
      "source": [
        "list = [ ' a ' ,  ' b ' ,  ' c ' ,  ' d ' ,  ' e ' ]\n",
        "print (list [ 1 : ])\n"
      ],
      "metadata": {
        "id": "9gpYKtXffZn8",
        "outputId": "63d6bf23-91f0-42e2-b5de-7240f0f9e6f5",
        "colab": {
          "base_uri": "https://localhost:8080/"
        }
      },
      "execution_count": 27,
      "outputs": [
        {
          "output_type": "stream",
          "name": "stdout",
          "text": [
            "[' b ', ' c ', ' d ', ' e ']\n"
          ]
        }
      ]
    },
    {
      "cell_type": "markdown",
      "source": [
        "12.What is the output of this code in Python? L1 = [ ] L1.append ( [1, [2, 3], 4] ) L1.extend ( [7, 8, 9] ) print(L1[0][1][1] + L1[2] ) (A) 3 (B) 8 (C) 11 (D) 38 (E) None of these\n",
        "\n",
        "Answer: B-11"
      ],
      "metadata": {
        "id": "o149YUrke-mY"
      }
    },
    {
      "cell_type": "code",
      "source": [
        "        L1 = [ ]\n",
        "        L1.append ( [1, [2, 3], 4] )\n",
        "        L1.extend ( [7, 8, 9] )\n",
        "        print(L1[0][1][1] + L1[2] )\n"
      ],
      "metadata": {
        "id": "Y65UuFM5flQV",
        "outputId": "74b3e163-3f8a-4000-87d9-e637f48870e0",
        "colab": {
          "base_uri": "https://localhost:8080/"
        }
      },
      "execution_count": 28,
      "outputs": [
        {
          "output_type": "stream",
          "name": "stdout",
          "text": [
            "11\n"
          ]
        }
      ]
    },
    {
      "cell_type": "markdown",
      "source": [
        "13. Which is the correct answer?\n",
        "(A) on (B) with (C) at  (D) in\n"
      ],
      "metadata": {
        "id": "4nDt_41ZgXY6"
      }
    },
    {
      "cell_type": "code",
      "source": [
        "txt = \"The best things in life are free!\"\n",
        "print(\"free\" in txt)\n"
      ],
      "metadata": {
        "id": "FNYA9v68g0FI",
        "outputId": "8cc08215-5f73-48bd-8863-97997ec0ae18",
        "colab": {
          "base_uri": "https://localhost:8080/"
        }
      },
      "execution_count": 30,
      "outputs": [
        {
          "output_type": "stream",
          "name": "stdout",
          "text": [
            "True\n"
          ]
        }
      ]
    },
    {
      "cell_type": "markdown",
      "source": [
        "14.Which of the following conditions correctly describes the output of this code in Python? first = [1 , 2 , 3 , 4 , 5] second = first second.append (6) print (first) print (second) (A) first=[1, 2, 3, 4, 5], second=[1, 2, 3, 4, 5, 6] (B) first=[1, 2, 3, 4, 5, 6], second=[1, 2, 3, 4, 5] (C) first=[1, 2, 3, 4, 5], second=[1, 2, 3, 4, 5] (D) first=[1, 2, 3, 4, 5, 6], second=[1, 2, 3, 4, 5, 6] (E) None of these\n",
        "\n",
        "Answer: D-[1, 2, 3, 4, 5, 6] [1, 2, 3, 4, 5, 6]"
      ],
      "metadata": {
        "id": "tzZt2uaqhXT9"
      }
    },
    {
      "cell_type": "code",
      "source": [
        "first = [1 , 2 , 3 , 4 , 5]\n",
        "second = first\n",
        "second.append (6)\n",
        "print (first)\n",
        "print (second)"
      ],
      "metadata": {
        "id": "KZOLXTzzhfmU",
        "outputId": "d7a8c0ff-2944-4f15-e9d5-76a9391e5bcd",
        "colab": {
          "base_uri": "https://localhost:8080/"
        }
      },
      "execution_count": 31,
      "outputs": [
        {
          "output_type": "stream",
          "name": "stdout",
          "text": [
            "[1, 2, 3, 4, 5, 6]\n",
            "[1, 2, 3, 4, 5, 6]\n"
          ]
        }
      ]
    },
    {
      "cell_type": "markdown",
      "source": [
        "15.Python has a set of built-in methods that you can use on strings. Which method can converts string into lower case ? (A)capitalize() (B) casefold() (C) lower()\n",
        "(D)expandtabs()\n",
        "\n",
        "Answer: C- lower () https://www.google.com/search?q=Python+has+a+set+of+built-in+methods+that+you+can+use+on+strings.+Which+method+can+converts+string+into+lower+case+%3F&rlz=1C1ONGR_enPH1023PH1023&oq=Python+has+a+set+of+built-in+methods+that+you+can+use+on+strings.+Which+method+can+converts+string+into+lower+case+%3F&aqs=chrome..69i57.263j0j9&sourceid=chrome&ie=UTF-8"
      ],
      "metadata": {
        "id": "t-i2iqQwhj_U"
      }
    },
    {
      "cell_type": "markdown",
      "source": [],
      "metadata": {
        "id": "XHdtZ_ACg8Xk"
      }
    },
    {
      "cell_type": "markdown",
      "source": [
        "16.Python Booleans Which one of the following statements is wrong? (A) Booleans represent one of two values: True or False. (B) The bool() function allows you to evaluate any value, and give you True or False in return, (C) print(10 > 9) will output True\n",
        "(D) print(10 = 9) will output True\n",
        "\n",
        "Answer: D-print(10 = 9) will output True"
      ],
      "metadata": {
        "id": "BhZuJTpThvKc"
      }
    },
    {
      "cell_type": "code",
      "source": [
        "print(10 = 9)\n",
        "  File \"\", line 1\n",
        "    print(10 = 9)"
      ],
      "metadata": {
        "id": "HEBj2_oLhy2t",
        "outputId": "0a7923d1-e1bd-4b31-e464-07e35106a15d",
        "colab": {
          "base_uri": "https://localhost:8080/",
          "height": 130
        }
      },
      "execution_count": 32,
      "outputs": [
        {
          "output_type": "error",
          "ename": "IndentationError",
          "evalue": "ignored",
          "traceback": [
            "\u001b[0;36m  File \u001b[0;32m\"<ipython-input-32-3b56f0043fea>\"\u001b[0;36m, line \u001b[0;32m2\u001b[0m\n\u001b[0;31m    File \"\", line 1\u001b[0m\n\u001b[0m    ^\u001b[0m\n\u001b[0;31mIndentationError\u001b[0m\u001b[0;31m:\u001b[0m unexpected indent\n"
          ]
        }
      ]
    },
    {
      "cell_type": "markdown",
      "source": [
        "17.Python Lists Which of the following statements is wrong?\n",
        "\n",
        "(A) Lists are used to store multiple items in a single variable. (B) Lists are created using square brackets (C) List items are ordered, changeable, and allow duplicate values. (D) Lists can not have items with the same value\n",
        "\n",
        "Answer:D- Lists can not have items with the same value"
      ],
      "metadata": {
        "id": "ZDtdLXgRh8Es"
      }
    },
    {
      "cell_type": "markdown",
      "source": [
        "18.Which one of the codes will output ['apple', 'orange', 'banana', 'cherry'] ?\n",
        "\n",
        "mylist = [\"apple\", \"banana\", \"cherry\"] _____________________ print(mylist)\n",
        "\n",
        "(A)mylist.append(\"orange\") (B)mylist.insert(0, \"orange\") (C)mylist.insert(1, \"orange\")\n",
        "(D)mylist.insert(2, \"orange\")\n",
        "\n",
        "Answer: D-mylist.insert(2, \"orange\")"
      ],
      "metadata": {
        "id": "3_gUgfJMiAZ8"
      }
    },
    {
      "cell_type": "code",
      "source": [
        "mylist = [\"apple\", \"banana\", \"cherry\"]\n",
        "mylist.insert(2, \"orange\")\n",
        "print(mylist)"
      ],
      "metadata": {
        "id": "jkBJiYKsiKrs",
        "outputId": "ad6c41e0-1b3e-413b-947e-f78255cb8ad0",
        "colab": {
          "base_uri": "https://localhost:8080/"
        }
      },
      "execution_count": 33,
      "outputs": [
        {
          "output_type": "stream",
          "name": "stdout",
          "text": [
            "['apple', 'banana', 'orange', 'cherry']\n"
          ]
        }
      ]
    },
    {
      "cell_type": "markdown",
      "source": [
        "19.Python has a set of built-in methods that you can use on dictionaries. Which statements are correct ? (A) clear() will removes all the elements from the dictionary (B) copy() will returns a copy of the dictionary (C) items() will returns a list containing a tuple for each key value pair\n",
        "(D) popitem() will removes the last inserted key-value pair\n",
        "\n",
        "Answer: C-items() will returns a list containing a tuple for each key value pair"
      ],
      "metadata": {
        "id": "nGbLvbjmifac"
      }
    },
    {
      "cell_type": "markdown",
      "source": [
        "20.Python supports the usual logical conditions from mathematics: Which statements are correct ? (A)Equals: a = b (B)Not Equals: a != b (C)Less than or equal to: a <= b (D)Greater than: a > b\n",
        "\n",
        "Answer: B-Not Equals: a != b"
      ],
      "metadata": {
        "id": "RIHjTDOBih9D"
      }
    },
    {
      "cell_type": "markdown",
      "source": [
        "21.What is the output of this code in Python?\n",
        "\n",
        "i = 1 while i < 6: print(i) if (i == 3): break i += 1 (A) (B) (C) (D) 1 1 1 4 2 2 2 5 3 4 3 6 5 4 6 5 6\n",
        "\n",
        "Answer: A"
      ],
      "metadata": {
        "id": "vxtw1AY1ikRc"
      }
    },
    {
      "cell_type": "code",
      "source": [
        "i = 1\n",
        "while i < 6:\n",
        "  print(i)\n",
        "  if (i == 3):\n",
        "    break\n",
        "  i += 1"
      ],
      "metadata": {
        "id": "cqiK5Clmip7L",
        "outputId": "910cac3b-794d-43c5-953f-e5312adceb49",
        "colab": {
          "base_uri": "https://localhost:8080/"
        }
      },
      "execution_count": 34,
      "outputs": [
        {
          "output_type": "stream",
          "name": "stdout",
          "text": [
            "1\n",
            "2\n",
            "3\n"
          ]
        }
      ]
    },
    {
      "cell_type": "markdown",
      "source": [
        "22.What is the output of this code in Python? i = 0 while i < 6: i += 1 if i == 3: continue print(i)\n",
        "\n",
        "(A) (B) (C) (D) 1 1 1 4 2 2 2 5 3 4 3 6 5 4 6 5 6\n",
        "\n",
        "Answer: B"
      ],
      "metadata": {
        "id": "bbGE7DDFiuKN"
      }
    },
    {
      "cell_type": "code",
      "source": [
        "i = 0\n",
        "while i < 6:\n",
        "  i += 1\n",
        "  if i == 3:\n",
        "    continue\n",
        "  print(i)"
      ],
      "metadata": {
        "id": "Jm41YrjSiu-M",
        "outputId": "a58f092b-35a8-46e2-95ff-98eca23d67fd",
        "colab": {
          "base_uri": "https://localhost:8080/"
        }
      },
      "execution_count": 35,
      "outputs": [
        {
          "output_type": "stream",
          "name": "stdout",
          "text": [
            "1\n",
            "2\n",
            "4\n",
            "5\n",
            "6\n"
          ]
        }
      ]
    },
    {
      "cell_type": "markdown",
      "source": [
        "23.If the function int volume (int x = 1, int y = 1, int z = 1); is called by the expression volume (7,8), how many default arguments are used? (A) None (B) One (C) Two (D) Three (E) It depends on the runtime environment.\n",
        "\n",
        "Answer: C-Two"
      ],
      "metadata": {
        "id": "oOpDCjMAi1EV"
      }
    },
    {
      "cell_type": "markdown",
      "source": [
        "24.What is the output of this code in python? r = lambda q: q * 2 s = lambda q: q * 3 x = 2 x = r (x) x = s (x) x = r (x) print (x) (A) 2 (B) 4 (C) 6 (D) 12 (E) 24\n",
        "\n",
        "Answer: E"
      ],
      "metadata": {
        "id": "Z-7fQsERi3Nc"
      }
    },
    {
      "cell_type": "code",
      "source": [
        "r = lambda q: q * 2\n",
        "s = lambda q: q * 3\n",
        "x = 2\n",
        "x = r (x)\n",
        "x = s (x)\n",
        "x = r (x)\n",
        "print (x)\n"
      ],
      "metadata": {
        "id": "xlSuiuszjFUH",
        "outputId": "779a4a50-5c95-436b-9311-a755c4b2b2fd",
        "colab": {
          "base_uri": "https://localhost:8080/"
        }
      },
      "execution_count": 40,
      "outputs": [
        {
          "output_type": "stream",
          "name": "stdout",
          "text": [
            "24\n"
          ]
        }
      ]
    },
    {
      "cell_type": "markdown",
      "source": [
        "25.A recursive function is defined as below: def tri_recursion(k): if(k > 0): result = k + tri_recursion(k - 1) print(result) What Is The Last Line Of The Output When tri_recursion(6) is executed?\n",
        "\n",
        "(A) 6 (B) 10 (C) 15 (D) 21 (E) 28\n",
        "\n",
        "Answer: D-21"
      ],
      "metadata": {
        "id": "OXr299XnjeCU"
      }
    },
    {
      "cell_type": "code",
      "source": [
        "def tri_recursion(k):\n",
        "  if(k > 0):\n",
        "    result = k + tri_recursion(k - 1)\n",
        "    print(result)\n",
        "  else:\n",
        "    result = 0\n",
        "  return result"
      ],
      "metadata": {
        "id": "gUBSD-Joje38"
      },
      "execution_count": 42,
      "outputs": []
    }
  ]
}